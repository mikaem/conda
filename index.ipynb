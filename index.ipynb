{
 "cells": [
  {
   "cell_type": "markdown",
   "metadata": {},
   "source": [
    "Demo - Poisson equation 1D\n",
    "=======================\n",
    "\n",
    "Solve Poisson equation in 1D with homogeneous Dirichlet bcs\n",
    "\n",
    "$$    \n",
    "\\begin{align}\n",
    "\\nabla^2 u(x) &= f(x), \\quad \\forall \\, x \\in [-1, 1]\\\\\n",
    "u(\\pm 1) &= 0 \n",
    "\\end{align}\n",
    "$$\n",
    "\n",
    "Use either Chebyshev basis $P=\\{T_k(x)\\}_{k=0}^{N-1}$ or Legendre $P=\\{L_k(x)\\}_{k=0}^{N-1}$ and define Shen's composite basis as\n",
    "\n",
    "$$\n",
    "V^N = \\{P_k - P_{k+2}\\, | \\, k=0, 1, \\ldots, N-3\\}.\n",
    "$$\n",
    "\n",
    "We also need the weighted inner product\n",
    "\n",
    "$$\n",
    " (u, v)_w = \\int_{-1}^1 u v w \\, \\text{dx},\n",
    "$$\n",
    "\n",
    "where $w(x)$ is a weight associated with the chosen basis. For Legendre the weight is simply $w(x)=1$, whereas for Chebyshev it is $w(x)=1/\\sqrt{1-x^2}$. The weight ensures that inner products are orthogonal. We use quadrature to solve the integral\n",
    "\n",
    "$$\n",
    "\\int_{-1}^1 u v w \\, \\text{dx} = \\sum_{i=0}^{N-1} u(x_i) v(x_i) \\omega_i,\n",
    "$$\n",
    "\n",
    "where $\\{\\omega_i\\}_{i=0}^{N-1}$ are the quadrature weights associated with the chosen basis (C/L) and quadrature rule. For Chebyshev there are `Chebyshev-Gauss` or `Chebyshev-Gauss-Lobatto`, whereas for Legendre there are `Legendre-Gauss` or `Legendre-Gauss-Lobatto`. The quadrature points are denoted as $\\{x_i\\}_{i=0}^{N-1}$ and their value depends on the chosen basis and quadrature rule.\n",
    "\n",
    "With the weighted product in place we can create variational problems from the original PDE by multiplying with a test function and integrating over the domain. For a Legendre basis we get: \n",
    "\n",
    "Find $u \\in V^N$ such that\n",
    "\n",
    "$$     (\\nabla u, \\nabla v) = -(f, v), \\quad \\forall \\, v \\in V^N.$$\n",
    "\n",
    "For a Chebyshev basis the integration by parts is complicated due to the weight and the variational problem used is instead: \n",
    "\n",
    "Find $u \\in V^N$ such that\n",
    "\n",
    "$$     (\\nabla^2 u, v)_w = (f, v)_w, \\quad \\forall \\, v \\in V^N.$$\n",
    "\n",
    "We now break the problem down to linear algebra. With any choice of basis or quadrature rule we use $\\phi_k(x)$ to represent the test function $v$ and thus\n",
    "\n",
    "$$\n",
    "\\begin{align}\n",
    "v(x) &= \\phi_k(x) \\\\\n",
    "u(x) &= \\sum_{j=0}^{N-3} \\hat{u}_j \\phi_j(x)\n",
    "\\end{align}\n",
    "$$\n",
    "\n",
    "Insert into the variational problem for Legendre\n",
    "\n",
    "$$\n",
    "\\begin{align}\n",
    "(\\nabla \\sum_{j=0}^{N-3} \\hat{u}_j \\phi_j, \\nabla \\phi_k) &= -(f, \\phi_k) \\\\\n",
    "\\sum_{j=0}^{N-3} \\underbrace{(\\nabla \\phi_j, \\nabla \\phi_k)}_{a_{kj}} \\hat{u}_j  &= -\\underbrace{(f, \\phi_k)}_{\\tilde{f}_k} \\\\\n",
    "A \\boldsymbol{\\hat{u}} &= -\\boldsymbol{\\tilde{f}}\n",
    "\\end{align}\n",
    "$$\n",
    "\n",
    "where $A = (a_{kj})_{0 \\ge k, j \\ge N-3}$ is the stiffness matrix, $\\hat{\\boldsymbol{u}} = \\{\\hat{u}_j\\}_{j=0}^{N-3}$ and $\\boldsymbol{\\tilde{f}} = \\{\\tilde{f}_k\\}_{k=0}^{N-3}$.\n"
   ]
  },
  {
   "cell_type": "code",
   "execution_count": 15,
   "metadata": {},
   "outputs": [],
   "source": [
    "from shenfun import *\n",
    "import matplotlib.pyplot as plt\n",
    "\n",
    "N = 100\n",
    "V = Basis(N, 'Legendre', quad='LG', bc=(0, 0))\n",
    "x, w = V.points_and_weights()\n",
    "v = TestFunction(V)\n",
    "u = TrialFunction(V)\n",
    "A = inner(grad(u), grad(v))"
   ]
  },
  {
   "cell_type": "markdown",
   "metadata": {},
   "source": [
    "Use a manufactured solution to create a right hand side $f(x)$"
   ]
  },
  {
   "cell_type": "code",
   "execution_count": 2,
   "metadata": {},
   "outputs": [],
   "source": [
    "import sympy\n",
    "x = sympy.symbols('x')\n",
    "u = (1-x**2)*(sympy.cos(4*x)*sympy.sin(6*x))\n",
    "f = u.diff(x, 2)"
   ]
  },
  {
   "cell_type": "code",
   "execution_count": 3,
   "metadata": {},
   "outputs": [],
   "source": [
    "fl = sympy.lambdify(x, f, 'numpy')\n",
    "fj = Array(V)"
   ]
  },
  {
   "cell_type": "code",
   "execution_count": 4,
   "metadata": {},
   "outputs": [],
   "source": [
    "fj[:] = fl(V.mesh())"
   ]
  },
  {
   "cell_type": "code",
   "execution_count": 5,
   "metadata": {},
   "outputs": [],
   "source": [
    "f_tilde = inner(v, -fj)"
   ]
  },
  {
   "cell_type": "code",
   "execution_count": 6,
   "metadata": {},
   "outputs": [],
   "source": [
    "u_hat = Function(V)\n",
    "u_hat = A.solve(f_tilde, u=u_hat)"
   ]
  },
  {
   "cell_type": "code",
   "execution_count": 14,
   "metadata": {},
   "outputs": [],
   "source": [
    "uj = u_hat.backward()"
   ]
  },
  {
   "cell_type": "code",
   "execution_count": 13,
   "metadata": {},
   "outputs": [],
   "source": [
    "ul = sympy.lambdify(x, u, 'numpy')\n",
    "ue = ul(V.mesh())"
   ]
  },
  {
   "cell_type": "code",
   "execution_count": 9,
   "metadata": {},
   "outputs": [],
   "source": [
    "T = Basis(N, 'L', quad='LG')"
   ]
  },
  {
   "cell_type": "code",
   "execution_count": 12,
   "metadata": {},
   "outputs": [],
   "source": [
    "du = project(Dx(u_hat, 0, 1), T)"
   ]
  }
 ],
 "metadata": {
  "kernelspec": {
   "display_name": "Python 3",
   "language": "python",
   "name": "python3"
  },
  "language_info": {
   "codemirror_mode": {
    "name": "ipython",
    "version": 3
   },
   "file_extension": ".py",
   "mimetype": "text/x-python",
   "name": "python",
   "nbconvert_exporter": "python",
   "pygments_lexer": "ipython3",
   "version": "3.7.2"
  }
 },
 "nbformat": 4,
 "nbformat_minor": 2
}
